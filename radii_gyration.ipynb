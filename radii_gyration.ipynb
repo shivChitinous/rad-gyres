{
 "cells": [
  {
   "cell_type": "markdown",
   "metadata": {},
   "source": [
    "# Calculating Radius of Gyration for Proteins\n",
    "\n",
    "In this notebook, we will open some `.pdb` files containing protein structures, get the coordinates of individual atoms and calculate the radii of gyration for the structures."
   ]
  },
  {
   "cell_type": "code",
   "execution_count": 1,
   "metadata": {},
   "outputs": [],
   "source": [
    "import numpy as np\n",
    "import pandas as pd\n",
    "import os #for getting the working directory\n",
    "from Bio.PDB import * #only used for downloading PDB files\n",
    "import matplotlib.pyplot as plt\n",
    "from read_process_PDB import *\n",
    "import seaborn as sns #for pretty visualization\n",
    "%matplotlib widget\n",
    "#allows for interactive viewing of 3D plots"
   ]
  },
  {
   "cell_type": "code",
   "execution_count": 2,
   "metadata": {},
   "outputs": [],
   "source": [
    "directory = os.getcwd() #get working directory, this will help us name our stored .pdb files in a shorter fashion"
   ]
  },
  {
   "cell_type": "markdown",
   "metadata": {},
   "source": [
    "## Downloading Files\n",
    "\n",
    "Let's download some `.pdb` files of interest. We want files for proteins with the following structure IDs:\n",
    "\n",
    "1. 1EMA\n",
    "2. 5HMP\n",
    "3. 4B50\n",
    "4. 5JVM\n",
    "5. 1BOM\n",
    "6. 6FQF\n",
    "7. 1OED\n",
    "\n",
    "The `.pdb` files will be stored in the current directory. Once the files are downloaded we open them and store the protein IDs and the pointers for their `.pdb` files in a dataframe `prot`. For instance, `prot['pointer'][i]` gives us the dataframe containing the atomic information for the ith protein."
   ]
  },
  {
   "cell_type": "code",
   "execution_count": 3,
   "metadata": {},
   "outputs": [
    {
     "name": "stdout",
     "output_type": "stream",
     "text": [
      "Structure exists: '/home/jovyan/em/pdb1ema.ent' \n",
      "Structure exists: '/home/jovyan/hm/pdb5hmp.ent' \n",
      "Structure exists: '/home/jovyan/b5/pdb4b50.ent' \n",
      "Structure exists: '/home/jovyan/jv/pdb5jvm.ent' \n",
      "Structure exists: '/home/jovyan/bo/pdb1bom.ent' \n",
      "Structure exists: '/home/jovyan/fq/pdb6fqf.ent' \n",
      "Structure exists: '/home/jovyan/oe/pdb1oed.ent' \n"
     ]
    }
   ],
   "source": [
    "prot = pd.DataFrame(['1EMA','5HMP','4B50','5JVM','1BOM','6FQF','1OED'],columns = ['ID']) #construct dataframe\n",
    "prot['file_name'] = [PDBList().retrieve_pdb_file(p,file_format='pdb').replace(directory,'.') for p in prot['ID']]\n",
    "\n",
    "prot['pointer'] = [open(name) for name in prot['file_name']]\n",
    "#this will store the file pointers within a column of the dataframe"
   ]
  },
  {
   "cell_type": "markdown",
   "metadata": {},
   "source": [
    "## Parsing and Visualizing\n",
    "\n",
    "Let's open one of these `.pdb` files and parse through them to obtain atomic coordinates so that we can visualize the structure. The structure of the `.pdb` file seems to lend itself very nicely to `pandas` dataframes. Therefore, we will parse the data into dataframes which can then be sliced according to convenience. The functions to parse and plot atomic information of the proteins are contained in `read_process_PDB.py`."
   ]
  },
  {
   "cell_type": "markdown",
   "metadata": {},
   "source": [
    "### 1EMA\n",
    "Let's visualize one of the proteins. It would be nice to look at the position $\\text{C}_\\alpha$, $\\text{C}$ and $\\text{N}$ atoms that make up the skeleton of the peptide chain. We can look at 1EMA which seems to be a GFP protein."
   ]
  },
  {
   "cell_type": "code",
   "execution_count": 4,
   "metadata": {},
   "outputs": [
    {
     "data": {
      "application/vnd.jupyter.widget-view+json": {
       "model_id": "846d89e1e4264a689fd5e9195c16416b",
       "version_major": 2,
       "version_minor": 0
      },
      "text/plain": [
       "Canvas(toolbar=Toolbar(toolitems=[('Home', 'Reset original view', 'home', 'home'), ('Back', 'Back to previous …"
      ]
     },
     "metadata": {},
     "output_type": "display_data"
    }
   ],
   "source": [
    "ID = 0\n",
    "plot_protein(atomize(prot['pointer'][ID]),title = prot['ID'][ID])"
   ]
  },
  {
   "cell_type": "markdown",
   "metadata": {},
   "source": [
    "Notice the barrel like structure of the protein. The N-terminus is shown in red and the C-terminus is shown in blue. This protein has a single subunit.\n",
    "\n",
    "### 5JVM\n",
    "Let's visualize 5JVM which seems to be a histone dimer."
   ]
  },
  {
   "cell_type": "code",
   "execution_count": 5,
   "metadata": {},
   "outputs": [
    {
     "data": {
      "application/vnd.jupyter.widget-view+json": {
       "model_id": "87a265be221542529c871c77480a40e7",
       "version_major": 2,
       "version_minor": 0
      },
      "text/plain": [
       "Canvas(toolbar=Toolbar(toolitems=[('Home', 'Reset original view', 'home', 'home'), ('Back', 'Back to previous …"
      ]
     },
     "metadata": {},
     "output_type": "display_data"
    }
   ],
   "source": [
    "ID = 3\n",
    "plot_protein(atomize(prot['pointer'][ID]),title = prot['ID'][ID])"
   ]
  },
  {
   "cell_type": "markdown",
   "metadata": {},
   "source": [
    "The skeleton clearly shows us the interaction between the two peptide chains. The histone 'handshake' is unmistakable."
   ]
  },
  {
   "cell_type": "markdown",
   "metadata": {},
   "source": [
    "### 5HMP"
   ]
  },
  {
   "cell_type": "code",
   "execution_count": 6,
   "metadata": {},
   "outputs": [
    {
     "data": {
      "application/vnd.jupyter.widget-view+json": {
       "model_id": "f619385b8d1f4889868ab0a0c2c1b786",
       "version_major": 2,
       "version_minor": 0
      },
      "text/plain": [
       "Canvas(toolbar=Toolbar(toolitems=[('Home', 'Reset original view', 'home', 'home'), ('Back', 'Back to previous …"
      ]
     },
     "metadata": {},
     "output_type": "display_data"
    }
   ],
   "source": [
    "ID = 1\n",
    "plot_protein(atomize(prot['pointer'][ID]),title = prot['ID'][ID])"
   ]
  },
  {
   "cell_type": "markdown",
   "metadata": {},
   "source": [
    "This protein is massive compared to the previous ones. It is some kind of myosin protein and you can see how the two subunits interact in a small spatial region."
   ]
  },
  {
   "cell_type": "markdown",
   "metadata": {},
   "source": [
    "## Centre of Mass\n",
    "\n",
    "Since we have the positions of all atoms in the protein, we should be able to calculate the centre of mass for the protein using the following relation:\n",
    "\n",
    "$\\vec{r}_{COM} = \\dfrac{\\sum_i^N \\vec{r}_iM_i}{\\sum_i M_i}$"
   ]
  },
  {
   "cell_type": "code",
   "execution_count": 7,
   "metadata": {},
   "outputs": [],
   "source": [
    "def com(structure):\n",
    "    com = np.zeros(3)\n",
    "    mass = structure['element'].replace({'N':14,'C':12,'H':1,'O':16,\n",
    "                                                               'S':32,'O1-':16}).astype('float')\n",
    "    M = np.sum(np.array(mass))\n",
    "    com = mass.dot(structure[['x','y','z']])\n",
    "    return np.array(com/M)"
   ]
  },
  {
   "cell_type": "markdown",
   "metadata": {},
   "source": [
    "### 6FQF"
   ]
  },
  {
   "cell_type": "code",
   "execution_count": 8,
   "metadata": {},
   "outputs": [
    {
     "data": {
      "application/vnd.jupyter.widget-view+json": {
       "model_id": "97fae26207294dbc80ca7b699a9aabdf",
       "version_major": 2,
       "version_minor": 0
      },
      "text/plain": [
       "Canvas(toolbar=Toolbar(toolitems=[('Home', 'Reset original view', 'home', 'home'), ('Back', 'Back to previous …"
      ]
     },
     "metadata": {},
     "output_type": "display_data"
    }
   ],
   "source": [
    "ID = 5\n",
    "COM = com(atomize(prot['pointer'][ID]))\n",
    "plot_protein(atomize(prot['pointer'][ID]),title = prot['ID'][ID],point=COM)"
   ]
  },
  {
   "cell_type": "markdown",
   "metadata": {},
   "source": [
    "Notice how the centre of mass of the haemoglobin protein (in black) sits at the centre of the 4 subunits of the haemoglobin molecule.\n",
    "\n",
    "### 1OED"
   ]
  },
  {
   "cell_type": "code",
   "execution_count": 9,
   "metadata": {},
   "outputs": [
    {
     "data": {
      "application/vnd.jupyter.widget-view+json": {
       "model_id": "13311c612b8e4511a39b45f484367bcb",
       "version_major": 2,
       "version_minor": 0
      },
      "text/plain": [
       "Canvas(toolbar=Toolbar(toolitems=[('Home', 'Reset original view', 'home', 'home'), ('Back', 'Back to previous …"
      ]
     },
     "metadata": {},
     "output_type": "display_data"
    }
   ],
   "source": [
    "ID = 6\n",
    "COM = com(atomize(prot['pointer'][ID]))\n",
    "plot_protein(atomize(prot['pointer'][ID]),title = prot['ID'][ID],point=COM)"
   ]
  },
  {
   "cell_type": "markdown",
   "metadata": {},
   "source": [
    "This protein is membrane pore that allows acetylcholine to pass through. Note how the centre of mass sits right in the middle of the pore."
   ]
  },
  {
   "cell_type": "markdown",
   "metadata": {},
   "source": [
    "# Radius of Gyration\n",
    "\n",
    "Finally, we should be able to calculate the radius of gyration for the protein using the following relationship:\n",
    "\n",
    "$\\big<R_G^2\\big> = \\dfrac{1}{N} \\sum_i^N (\\vec{r}_i - \\vec{r}_{COM})^2$"
   ]
  },
  {
   "cell_type": "code",
   "execution_count": 10,
   "metadata": {},
   "outputs": [],
   "source": [
    "def radius_of_gyration(structure,com):\n",
    "    N = np.size(np.array(structure['x']))\n",
    "    Rg2 = np.array(structure[['x','y','z']]-com)\n",
    "    Rg = np.sqrt((Rg2*Rg2).sum(-1).sum()/N)\n",
    "    return Rg"
   ]
  },
  {
   "cell_type": "markdown",
   "metadata": {},
   "source": [
    "### 4B50"
   ]
  },
  {
   "cell_type": "code",
   "execution_count": 11,
   "metadata": {},
   "outputs": [
    {
     "data": {
      "application/vnd.jupyter.widget-view+json": {
       "model_id": "a6c14238fef34b92acb357185dca99c8",
       "version_major": 2,
       "version_minor": 0
      },
      "text/plain": [
       "Canvas(toolbar=Toolbar(toolitems=[('Home', 'Reset original view', 'home', 'home'), ('Back', 'Back to previous …"
      ]
     },
     "metadata": {},
     "output_type": "display_data"
    }
   ],
   "source": [
    "ID = 2\n",
    "r_g = radius_of_gyration(atomize(prot['pointer'][ID]),com(atomize(prot['pointer'][ID])))\n",
    "plot_protein(atomize(prot['pointer'][ID]),title = prot['ID'][ID],\n",
    "             point=com(atomize(prot['pointer'][ID])),sphere=r_g,all_atoms=True,skeleton=False)"
   ]
  },
  {
   "cell_type": "markdown",
   "metadata": {},
   "source": [
    "Here, instead of plotting the skeleton we have plotted the location of all the atoms. We can see that this protein is relatively spherical in shape. Therefore the radius of gyration is a good estimate of its size in angstroms."
   ]
  },
  {
   "cell_type": "markdown",
   "metadata": {},
   "source": [
    "### 1BOM"
   ]
  },
  {
   "cell_type": "code",
   "execution_count": 12,
   "metadata": {},
   "outputs": [
    {
     "data": {
      "application/vnd.jupyter.widget-view+json": {
       "model_id": "7a7f82a6278445febb1f5ec2757340a7",
       "version_major": 2,
       "version_minor": 0
      },
      "text/plain": [
       "Canvas(toolbar=Toolbar(toolitems=[('Home', 'Reset original view', 'home', 'home'), ('Back', 'Back to previous …"
      ]
     },
     "metadata": {},
     "output_type": "display_data"
    }
   ],
   "source": [
    "ID = 4\n",
    "r_g = radius_of_gyration(atomize(prot['pointer'][ID]),com(atomize(prot['pointer'][ID])))\n",
    "plot_protein(atomize(prot['pointer'][ID]),title = prot['ID'][ID],\n",
    "             point=com(atomize(prot['pointer'][ID])),sphere=r_g,all_atoms=True,skeleton=False)"
   ]
  },
  {
   "cell_type": "markdown",
   "metadata": {},
   "source": [
    "This insulin like peptide from insects is not spherically symmetric since it has two long chains that lie at an angle to each other. For proteins like this we can see that the radius of gyration is a bad estimate of size."
   ]
  },
  {
   "cell_type": "markdown",
   "metadata": {},
   "source": [
    "## Radius of Gyration vs. Chain Length\n",
    "\n",
    "We can calculate the radius of gyration for the proteins we obtained as a function of the chain length for each of the proteins we have in our set. As a proxy for the chain length, we will calculate the number of $C_\\alpha$ atoms in the protein."
   ]
  },
  {
   "cell_type": "code",
   "execution_count": 13,
   "metadata": {},
   "outputs": [],
   "source": [
    "prot['chain_length'] = [len(atomize(p).query('name == \"CA\"')) for p in prot['pointer']]\n",
    "prot['Rg'] = [radius_of_gyration(atomize(p),com(atomize(p))) for p in prot['pointer']]"
   ]
  },
  {
   "cell_type": "code",
   "execution_count": 14,
   "metadata": {},
   "outputs": [
    {
     "data": {
      "application/vnd.jupyter.widget-view+json": {
       "model_id": "55c782dd6fa4443aa6b536bee0e8faf7",
       "version_major": 2,
       "version_minor": 0
      },
      "text/plain": [
       "Canvas(toolbar=Toolbar(toolitems=[('Home', 'Reset original view', 'home', 'home'), ('Back', 'Back to previous …"
      ]
     },
     "metadata": {},
     "output_type": "display_data"
    }
   ],
   "source": [
    "plt.figure(figsize=(4,3))\n",
    "plt.plot(prot['chain_length'],prot['Rg'],'o',alpha=0.5)\n",
    "plt.xlabel(r'$chain\\ length\\ (N_{C_\\alpha})$')\n",
    "plt.ylabel(r'$<R_G^2>\\ (A^\\circ)$')\n",
    "plt.tight_layout()\n",
    "plt.show()"
   ]
  },
  {
   "cell_type": "markdown",
   "metadata": {},
   "source": [
    "We can see that $\\big<R_g^2\\big>$ scales linearly as a function of the number of $C_\\alpha$ atoms. It is interesting to note that 5VJM which as we saw above is a molecule that is much wider in one dimension than in the other has a higher than expected $\\big<R_g^2\\big>$.\n",
    "\n",
    "\n",
    "### Subunits\n",
    "To confirm that this trend holds for individual subunits we can calculate radii of gyration for individual subunits of all the proteins in our set and plot them as a function of the number of carbon atoms in them. "
   ]
  },
  {
   "cell_type": "code",
   "execution_count": 15,
   "metadata": {},
   "outputs": [],
   "source": [
    "R_g = []\n",
    "sub_len = []\n",
    "for p in prot['pointer']:\n",
    "    structure = atomize(p)\n",
    "    _,subunits = structure['chain'].factorize()\n",
    "    for s in subunits:\n",
    "        sub = structure.loc[structure['chain'] == s]\n",
    "        R_g.append(radius_of_gyration(sub,com(sub)))\n",
    "        sub_len.append(len(sub.query('name == \"CA\"')))\n",
    "R_g = np.array(R_g)\n",
    "sub_len = np.array(sub_len)"
   ]
  },
  {
   "cell_type": "code",
   "execution_count": 16,
   "metadata": {},
   "outputs": [
    {
     "data": {
      "application/vnd.jupyter.widget-view+json": {
       "model_id": "2c11b1cd50cd4b74b77bb09e06519f69",
       "version_major": 2,
       "version_minor": 0
      },
      "text/plain": [
       "Canvas(toolbar=Toolbar(toolitems=[('Home', 'Reset original view', 'home', 'home'), ('Back', 'Back to previous …"
      ]
     },
     "metadata": {},
     "output_type": "display_data"
    }
   ],
   "source": [
    "plt.figure(figsize=(4,3))\n",
    "plt.plot(sub_len,R_g,'o',alpha=0.5)\n",
    "plt.xlabel(r'$chain\\ length\\ (N_{C_\\alpha})$')\n",
    "plt.ylabel(r'$<R_G^2>\\ (A^\\circ)$')\n",
    "plt.tight_layout()\n",
    "plt.show()"
   ]
  },
  {
   "cell_type": "markdown",
   "metadata": {},
   "source": [
    "Again, we see that the trend holds except for the two subunits of 5VJM which are longer in one dimension."
   ]
  }
 ],
 "metadata": {
  "kernelspec": {
   "display_name": "Python 3",
   "language": "python",
   "name": "python3"
  },
  "language_info": {
   "codemirror_mode": {
    "name": "ipython",
    "version": 3
   },
   "file_extension": ".py",
   "mimetype": "text/x-python",
   "name": "python",
   "nbconvert_exporter": "python",
   "pygments_lexer": "ipython3",
   "version": "3.7.8"
  }
 },
 "nbformat": 4,
 "nbformat_minor": 2
}
